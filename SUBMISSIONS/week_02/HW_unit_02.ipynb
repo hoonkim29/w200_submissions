{
 "cells": [
  {
   "cell_type": "markdown",
   "metadata": {},
   "source": [
    "## Unit 2 Assignment - W200 Introduction to Data Science Programming, UC Berkeley MIDS"
   ]
  },
  {
   "cell_type": "markdown",
   "metadata": {},
   "source": [
    "## Python Coding\n",
    "\n",
    "Write a script to solve each of the following problems.  Please save each problem as it's own separate .py file, named according to each problem. Please upload these **five .py scripts** to your GitHub repository in your SUBMISSIONS/week_02 folder.\n",
    "\n",
    "Assignment due date: 11:59PM PST the night before the Week 3 Live Session."
   ]
  },
  {
   "cell_type": "markdown",
   "metadata": {},
   "source": [
    "## Objectives:\n",
    "\n",
    "- Demonstrate how to obtain user input into a Python script\n",
    "- Comprehend how to save a Python script to a .py file\n",
    "- Understand how to run a Python script from the command line\n",
    "- Demonstrate outputting useful information to the user in the correct format\n",
    "- Use Python numerical and string variables to calculate values and output these to the user\n",
    "- Demonstrate use of the while loop and if statements"
   ]
  },
  {
   "cell_type": "markdown",
   "metadata": {},
   "source": [
    "## General Guidelines:\n",
    "\n",
    "- Even though your final submission must be individual .py files, it may be helpful to first solve the problems in this jupyter notebook, then translate the files into .py form.  A coding cell is provided for each problem to facilitate this.\n",
    "- Please format your input and output strings to be user friendly.  For tips on how to do this, see the python string formatting cookbook at: https://mkaz.blog/code/python-string-format-cookbook/.  For example, in the first problem below, format the tip to two decimal places like 15.25 instead of 15.25000001.\n",
    "- Limited user input validation and error checking is encouraged on this assignment. Each question below will indicate the type of input that you can expect. (for example, if the question states the input will be an integer you can expect the user to input an integer and do not need to check to ensure it is an integer versus a float or a string)\n",
    "- Adding comments in your code is strongly suggested but won't be graded.\n",
    "- The examples given are samples of how we will test/grade your code. Please ensure your scripts output the same information.\n",
    "- If you are stuck on a problem or do not understand a question - please come to office hours or ask questions to the class Google group (please don't post your code though). If it is a coding problem send a private email to all of the instructors at: mids-python-instructors@googlegroups.com.\n",
    "- We also have a TA tutor for extra help and 1 on 1 sessions!\n",
    "- Hints are given in some of the questions; these are optional so you do NOT need to use the hint (or code your answer that way) as long as your code meets the requirements of the problem.\n",
    "- You may use any libraries from the Python Standard Library for this assignment: https://docs.python.org/3/library/"
   ]
  },
  {
   "cell_type": "markdown",
   "metadata": {},
   "source": [
    "## Grading Rubric\n",
    "\n",
    "General grading rubric guidelines / philosophy:\n",
    "\n",
    "- The total possible points will be shown for each question\n",
    "- Please read each question carefully to understand the requirements\n",
    "- Points for each question are rewarded based on how well your code fulfills those requirements\n",
    "- Some problems have an example given to help show what is needed and how to format the answer\n",
    "- For the first question (2-1) below, a detailed grading rubric is given as an example.\n",
    "- For the rest of the questions, its up to you to determine the requirements and code them!\n",
    "\n",
    "More on grading:\n",
    "- If the question is blank / not attempted, no points will be given\n",
    "- Most points are given for code that runs (does not crash) and fulfills the requirements\n",
    "- Minor points are given for formatting the answer in accordance with the question"
   ]
  },
  {
   "cell_type": "markdown",
   "metadata": {},
   "source": [
    "### 2-1. Tip Calculator (20 points)\n",
    "\n",
    "Below, you can see the script we wrote to compute the tip for a meal.  Fix it so that it works correctly. Expect the input to be a **number.** Please format the output to 2 decimal places. \n",
    "\n",
    "Save your script as the file: tip.py.\n",
    "\n",
    "Example Grading Rubric:\n",
    "- 10 points: fixing the crash so the program works with numbers (for example: 10 or 4.99)\n",
    "- 5 points: formatting the output correctly to 2 decimal places\n",
    "- 5 points: naming the file correctly (tip.py)"
   ]
  },
  {
   "cell_type": "code",
   "execution_count": 2,
   "metadata": {},
   "outputs": [
    {
     "name": "stdout",
     "output_type": "stream",
     "text": [
      "Enter the price of a meal: 10\n"
     ]
    },
    {
     "ename": "TypeError",
     "evalue": "can't multiply sequence by non-int of type 'float'",
     "output_type": "error",
     "traceback": [
      "\u001b[1;31m---------------------------------------------------------------------------\u001b[0m",
      "\u001b[1;31mTypeError\u001b[0m                                 Traceback (most recent call last)",
      "\u001b[1;32m<ipython-input-2-d30916b79472>\u001b[0m in \u001b[0;36m<module>\u001b[1;34m\u001b[0m\n\u001b[0;32m      1\u001b[0m \u001b[0mprice\u001b[0m \u001b[1;33m=\u001b[0m \u001b[0minput\u001b[0m\u001b[1;33m(\u001b[0m\u001b[1;34m\"Enter the price of a meal: \"\u001b[0m\u001b[1;33m)\u001b[0m\u001b[1;33m\u001b[0m\u001b[1;33m\u001b[0m\u001b[0m\n\u001b[0;32m      2\u001b[0m \u001b[1;33m\u001b[0m\u001b[0m\n\u001b[1;32m----> 3\u001b[1;33m \u001b[0mtip\u001b[0m \u001b[1;33m=\u001b[0m \u001b[0mprice\u001b[0m \u001b[1;33m*\u001b[0m \u001b[1;36m0.16\u001b[0m\u001b[1;33m\u001b[0m\u001b[1;33m\u001b[0m\u001b[0m\n\u001b[0m\u001b[0;32m      4\u001b[0m \u001b[0mtotal\u001b[0m \u001b[1;33m=\u001b[0m \u001b[0mprice\u001b[0m \u001b[1;33m+\u001b[0m \u001b[0mtip\u001b[0m\u001b[1;33m\u001b[0m\u001b[1;33m\u001b[0m\u001b[0m\n\u001b[0;32m      5\u001b[0m \u001b[1;33m\u001b[0m\u001b[0m\n",
      "\u001b[1;31mTypeError\u001b[0m: can't multiply sequence by non-int of type 'float'"
     ]
    }
   ],
   "source": [
    "price = input(\"Enter the price of a meal: \")\n",
    "\n",
    "tip = price * 0.16\n",
    "total = price + tip\n",
    "\n",
    "print(\"A 16% tip would be:\", tip)\n",
    "print(\"The total including tip would be:\", total)"
   ]
  },
  {
   "cell_type": "markdown",
   "metadata": {},
   "source": [
    "### 2-2. Gas Pump Informer (20 points)\n",
    "\n",
    "Write a script that prompts the user for a **number** of gallons of gasoline. Reprint that value, along with its conversion to other measurements:\n",
    "\n",
    "- Equivalent number of liters (format to 4 decimals)\n",
    "- Number of barrels of oil required to produce it (format to 3 decimals)\n",
    "- Price in U.S. dollars (format to 2 decimals)\n",
    "\n",
    "Figures to use:\n",
    "\n",
    "- 1 gallon is equivalent to 3.7854 liters.\n",
    "- 1 barrel of oil produces 19.5 gallons of gas.\n",
    "- The average price of gas is approximately $3.65 per gallon.\n",
    "\n",
    "Save your script as: gas.py"
   ]
  },
  {
   "cell_type": "code",
   "execution_count": null,
   "metadata": {
    "collapsed": true
   },
   "outputs": [],
   "source": []
  },
  {
   "cell_type": "markdown",
   "metadata": {},
   "source": [
    "### 2-3. Number Averager (20 points)\n",
    "\n",
    "Write a script that prompts the user for **two numbers**, a and b. Then, prompt the user to enter a type of average out of the three options below. Make it so the user would just type in a **number** 1, 2 or 3 for the average (i.e. 1 for arithmetic mean, 2 for geometric mean, or 3 for root-mean-square). This numerical selection is an example of how to give the user a simple response that will get around potential spelling errors and head off user frustration. This design decision makes the user interaction more robust. No requirement to round or format numbers for this problem. Output the correct average, based on what the user selected.\n",
    "\n",
    "1. The arithmetic mean:  $(a + b) / 2 $\n",
    "2. The geometric mean:  $\\sqrt{ab}$\n",
    "3. The root-mean-square: $\\sqrt{\\frac{a^2 + b^2}{2}}$\n",
    "\n",
    "Save your script as: averages.py"
   ]
  },
  {
   "cell_type": "code",
   "execution_count": null,
   "metadata": {
    "collapsed": true
   },
   "outputs": [],
   "source": []
  },
  {
   "cell_type": "markdown",
   "metadata": {},
   "source": [
    "### 2-4. Income Tax (20 points)\n",
    "\n",
    "The mythical island nation of Laskoatu has a rather simple tax code.  The first 1000 dollars of income is taxed at 5%.  The next 1000 dollars is taxed at 10%.  Any income beyond the first 2000 dollars is taxed at 15%.  Complete the following script so that it asks the user for his or her income (a **number**) and outputs the amount of tax owed. Format numbers to 2 decimal places.\n",
    "\n",
    "Example:\n",
    "```\n",
    "Please enter your income: 1500\n",
    "\n",
    "The tax owed is: $100.00 \n",
    "```\n",
    "\n",
    "Save your script as: tax.py"
   ]
  },
  {
   "cell_type": "code",
   "execution_count": null,
   "metadata": {},
   "outputs": [],
   "source": []
  },
  {
   "cell_type": "markdown",
   "metadata": {},
   "source": [
    "### 2-5. Palindrome (20 points)\n",
    "\n",
    "Write a script that prompts the user for a name (this input will be a **1 word string**). Using a while loop that counts downwards, print the letters of the name reversed (hint: you can use print(var, end='') in each iteration of the loop). You cannot use the 'reverse' function or the string slicing [::-1] method for this problem! You should use s.lower() and s.upper(), as appropriate, to change the string to lowercase and print it out with only the first letter of the reversed word in uppercase. If the name is the same forward and backwards, print \"Palindrome!\" on the next line. Make sure your code prints the sample examples exactly as shown below.\n",
    "\n",
    "Hint: You can use string concatenation in place of the reverse or string slicing [::-1] methods.\n",
    "\n",
    "Examples:\n",
    "```\n",
    "Enter your name: Paul\n",
    "Luap\n",
    "\n",
    "Enter your name: ANA\n",
    "Ana\n",
    "Palindrome!\n",
    "```\n",
    "\n",
    "Save your script as: palindrome.py"
   ]
  },
  {
   "cell_type": "code",
   "execution_count": null,
   "metadata": {},
   "outputs": [],
   "source": []
  },
  {
   "cell_type": "markdown",
   "metadata": {
    "collapsed": true
   },
   "source": [
    "## If you have feedback for this homework, please submit it using the link below:\n",
    "\n",
    "http://goo.gl/forms/74yCiQTf6k"
   ]
  }
 ],
 "metadata": {
  "anaconda-cloud": {},
  "kernelspec": {
   "display_name": "Python 3",
   "language": "python",
   "name": "python3"
  },
  "language_info": {
   "codemirror_mode": {
    "name": "ipython",
    "version": 3
   },
   "file_extension": ".py",
   "mimetype": "text/x-python",
   "name": "python",
   "nbconvert_exporter": "python",
   "pygments_lexer": "ipython3",
   "version": "3.8.5"
  }
 },
 "nbformat": 4,
 "nbformat_minor": 1
}
