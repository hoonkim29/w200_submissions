{
 "cells": [
  {
   "cell_type": "code",
   "execution_count": 16,
   "metadata": {},
   "outputs": [
    {
     "data": {
      "text/html": [
       "<img src=\"https://github.com/UC-Berkeley-I-School/mids-w200-assignments-upstream-spring2021/week_02/week-02-extras/ucb.png\"/>"
      ],
      "text/plain": [
       "<IPython.core.display.Image object>"
      ]
     },
     "execution_count": 16,
     "metadata": {},
     "output_type": "execute_result"
    }
   ],
   "source": [
    "from IPython.display import display, Image, HTML, FileLink, FileLinks\n",
    "i = Image(url='https://github.com/UC-Berkeley-I-School/mids-w200-assignments-upstream-spring2021/week_02/week-02-extras/ucb.png')\n",
    "i"
   ]
  },
  {
   "cell_type": "markdown",
   "metadata": {},
   "source": [
    "<h1>Week 2</h1><p>This is an <u>optional</u> notebook version of the week&rsquo;s material.  A different way to seeing the action.</p><font size=\"-2\">Jan 13, 2021</font>"
   ]
  },
  {
   "cell_type": "markdown",
   "metadata": {},
   "source": [
    "<ul><li>Today we look at the basics of <u>control-of-flow</u> and how python is an object-oriented language.  These themes are expanded upon in much more depth and much more rapidly in the coming weeks.</li>\n",
    "    <li>We look at String <u>object</u> and will use it as an example of how &ldquo;methods&rdquo; (essentially functions that are built into an object, tho we don&rsquo;t always see them) are accessed using the dot operator and we&rsquo;ll work on the very common/important technique of <u>splicing</u>.</li>\n",
    "    <li>Last week we touched on the operating system and how we interact with it directly through the terminal window and how we might through Jupyter Notebook.  For the fun of it, let's use a python library (\"sys\" for system) that asks python to tell us what version is loaded on the machine.</li>\n",
    "    <li>Breakout rooms to practice will follow.</li></ul>"
   ]
  },
  {
   "cell_type": "markdown",
   "metadata": {},
   "source": [
    "<h1>control of flow</h1> and python..."
   ]
  },
  {
   "cell_type": "code",
   "execution_count": 4,
   "metadata": {},
   "outputs": [
    {
     "name": "stdout",
     "output_type": "stream",
     "text": [
      "You are using Python 3.8.\n"
     ]
    }
   ],
   "source": [
    "import sys\n",
    "\n",
    "if not sys.version_info.major == 3 and sys.version_info.minor >= 6:\n",
    "    print(\"Python 3.6 or higher is required.\")\n",
    "    print(\"\\t\\t You are using Python {}.{}.\".format(sys.version_info.major, sys.version_info.minor))\n",
    "    sys.exit(1)\n",
    "else:\n",
    "    print(\"You are using Python {}.{}.\".format(sys.version_info.major, sys.version_info.minor))"
   ]
  },
  {
   "cell_type": "markdown",
   "metadata": {},
   "source": [
    "<h2>Operators and Assignments</h2>\n",
    "<p>A variable, as you know, is a container to a value, e.g., <code>x = 5</code>. <br />\n",
    "    A var actually consists of two parts: a <u>declaration</u> and an <u>assignment</u>.  \"<code>x</code>\" declares a variable in the <code>name space</code> and the assignment <code>=</code> directs the program to assign a value in the <code>object</code>.  If you've programmed in C++, you know we can save a variable the usual way ... and also we can have a variable that points to the memory address of that variable (called a <code>pointer</code>).  Pointers are much faster to use - python doesn't use them in the API but behind the scenes it does.</p>\n",
    "<p>From here it's just building on a similar theme.  = means \"assign a value.\"  Other symbols are<br />\n",
    "    <code>==</code> equivalency (returns a true or a false value)<br />\n",
    "    <code>+</code> addition<br />\n",
    "    <code>-</code> subtraction<br />\n",
    "    <code>*</code> multiplication<br />\n",
    "    <code>/</code> division<br />\n",
    "    <code>**</code> exponent<br />\n",
    "    <code>%</code> modulus<br />\n",
    "    <code>//</code> integer division\n",
    "</p><p>And the fun short cuts for accumulators: <code>+=</code> and <code>-=</code>, such as x += 5 is the same as x = x + 5.</p>"
   ]
  },
  {
   "cell_type": "code",
   "execution_count": 22,
   "metadata": {},
   "outputs": [
    {
     "name": "stdout",
     "output_type": "stream",
     "text": [
      "--------------------------------------------------\n",
      "the many shades of x!\n",
      "50\n",
      "______________________________ \n",
      "\n",
      "50\n",
      "10.0\n",
      "250\n",
      "312500000\n",
      "______________________________ \n",
      "\n",
      "55\n",
      "equivalency is a useful too.  Does x == 5? False\n",
      "______________________________ \n",
      "\n",
      "50\n",
      "integer division:  20.0\n",
      "modulus:  0\n",
      "--------------------------------------------------\n"
     ]
    }
   ],
   "source": [
    "print(\"-\"*50)\n",
    "print(\"the many shades of x!\")\n",
    "x = 50\n",
    "print(x)\n",
    "print(\"_\"*30, \"\\n\")\n",
    "x - 5\n",
    "print(x)\n",
    "\n",
    "print(x / 5)\n",
    "print(x * 5)\n",
    "print(x ** 5)\n",
    "\n",
    "print(\"_\"*30, \"\\n\")\n",
    "\n",
    "x += 5\n",
    "print(x)\n",
    "\n",
    "# a nice shortcut is to test equivalency; rather than ask \"if == 5, then ... \"\n",
    "print(\"equivalency is a useful too.  Does x == 5?\", x == 5)\n",
    "\n",
    "print(\"_\"*30, \"\\n\")\n",
    "x -= 5\n",
    "print(x)\n",
    "print(\"integer division: \", (x // 2.5) )\n",
    "print(\"modulus: \", (x % 2))\n",
    "print(\"-\"*50)"
   ]
  },
  {
   "cell_type": "markdown",
   "metadata": {},
   "source": [
    "<h2>A first note about objects</h2>\n",
    "<p style=\"border-radius:4px;padding:10px; color:cornflowerblue;\">Note that this is an optional discussion to show that our basic python language set are objects and to prepare us for longer discussion a few weeks from now.  Do note the parallels between python&rsquo;s structure of object-hierarchy and the classes we'll create later with the same kind of hierarchy.</p>\n",
    "\n",
    "<p>First, let&rsquo;s think about an object-oriented language from the computer's p.o.v.  Pretty much everything in a computer is designed to be an hierarchy.  Objects are no different; tho we use objects in non-linear ways.  At the base of python as a language is the root of all things - an object called <code>object</code>.</p>\n",
    "<p>That object has lots of <code>subclasses</code> (or child classes).  Here&rsquo;s an example using just a <code>str</code> object.\n",
    "\n",
    "<ul><li>\n",
    "    If we create a variable called \"s\" and assign it a value \"Hello\", we've instantiated a copy of python's <code>str</code> class.  We can check this by issuing the command <code>type(s)</code> and see &lt;class 'str'&gt; as the output.   We can use a similar command with a different syntax, that's reserved for accessing data inside an object (double underscore or <i>dunder</i>), e.g., <code>s.__class__</code>; and see the same result <code>&lt;class 'str'&gt;</code></li>\n",
    "    <li>\n",
    "        Next we can ask who the base (parent) is of the str class: <code>str.__bases__</code> and the result is <code>&lt;class 'object'&gt;</code>\n",
    "    </li></ul>\n",
    "<pre style=\"color:maroon\">\n",
    "[metadata]         [class]           [instance]\n",
    "  type             object              object()\n",
    "                      |__ bases\n",
    "                          |__str             .str()\n",
    "                                                |__s   \n",
    "        # this is our variable \"s\"\n",
    "</pre>        \n",
    "<blockquote>\n",
    "    If you want to see all the subclasses of the parent class object, type the command <code>object.__subclasses()__</code> in your python window and look out!  If you want to see all the modules you can import, enter <code>help('modules')</code>.\n",
    "    <p>Python has <code>metaclasses</code> (like the \"type\" command that gets data about a class), <code>class</code> as we&rsquo;ve seen with object (and int, str, list, module and hundreds more), and a behind-the-scenes object called <code>object</code> that in turn starts the hierarchy of data types and modules we use from the python language.  This is how python is an OOP language.  The syntax of python allows us to be pretty flexible with lots of shortcuts that mayn&rsquo;t look like other OOPs&rsquo;.  Compare Java&rsquo;s String constructor (<code>String s = new String(\"hello\")</code> with python's down-and-dirty <code>s = \"hello\"</code>.\n",
    "   </blockquote>\n",
    "<p>Python is an object-oriented language but is kinda loose - we can use syntax that's commonly employed in procedural langauges and use more strict object approaches.  We'll tackle this in a couple of weeks.</p>\n",
    "<hr>\n",
    "<p>For the moment note that python language itself is object-oriented and we see that in its syntax.</p>\n",
    "<p>Consider the String object and notice the <span style=\"color:cornflowerblue;\">method</span>s used to affect an instance of a String.</p>\n",
    "<p>Think of a String as a contiguous block of characters:\n",
    "<pre style=\"color:maroon;\">\n",
    "  h   e   l   l   o\n",
    " [0] [1] [2] [3] [4] \n",
    "</pre>"
   ]
  },
  {
   "cell_type": "code",
   "execution_count": 24,
   "metadata": {},
   "outputs": [
    {
     "name": "stdout",
     "output_type": "stream",
     "text": [
      "Huzzah\n",
      "<class 'str'>\n",
      "HUZZAH\n",
      "huzzah\n"
     ]
    },
    {
     "data": {
      "text/plain": [
       "6"
      ]
     },
     "execution_count": 24,
     "metadata": {},
     "output_type": "execute_result"
    }
   ],
   "source": [
    "s = \"Huzzah\"\n",
    "print(s)\n",
    "\n",
    "\"\"\" \n",
    "The variable s is an instance of the \n",
    "class String and it has a value. Strings are \"immutable\" \n",
    "sequences of Unicode code points - in other words a sequence \n",
    "of characters identified by the position in RAM of the first letter.\n",
    "Let's confirm using the type() command. \"\"\"\n",
    "print(type(s))\n",
    "\n",
    "\"\"\" Let's use some methods in the string to alter the string \"\"\"\n",
    "print(s.upper())\n",
    "print(s.lower())\n",
    "\n",
    "\"\"\" how long is the string? \"\"\"\n",
    "len(s)"
   ]
  },
  {
   "cell_type": "code",
   "execution_count": 59,
   "metadata": {},
   "outputs": [
    {
     "data": {
      "text/plain": [
       "'H'"
      ]
     },
     "execution_count": 59,
     "metadata": {},
     "output_type": "execute_result"
    }
   ],
   "source": [
    "\"\"\" what's the first letter? \"\"\"\n",
    "s[0]  # remember we start counting at 0"
   ]
  },
  {
   "cell_type": "code",
   "execution_count": 55,
   "metadata": {},
   "outputs": [
    {
     "data": {
      "text/plain": [
       "'z'"
      ]
     },
     "execution_count": 55,
     "metadata": {},
     "output_type": "execute_result"
    }
   ],
   "source": [
    "\"\"\" what's the 4th letter? \"\"\"\n",
    "s[3]"
   ]
  },
  {
   "cell_type": "code",
   "execution_count": 56,
   "metadata": {},
   "outputs": [
    {
     "data": {
      "text/plain": [
       "False"
      ]
     },
     "execution_count": 56,
     "metadata": {},
     "output_type": "execute_result"
    }
   ],
   "source": [
    "\"\"\" Can we find if a particular char is in there? \"\"\"\n",
    "\"i\" in s"
   ]
  },
  {
   "cell_type": "code",
   "execution_count": 57,
   "metadata": {},
   "outputs": [
    {
     "name": "stdout",
     "output_type": "stream",
     "text": [
      "We have 3 options and q to quit:3\n"
     ]
    },
    {
     "data": {
      "text/plain": [
       "True"
      ]
     },
     "execution_count": 57,
     "metadata": {},
     "output_type": "execute_result"
    }
   ],
   "source": [
    "\"\"\" What if we have a menu of options for people to use? \"\"\"\n",
    "legit_options = \"123q\"  # 1, 2, 3, and q (for quit)\n",
    "\n",
    "user_choice = input(\"We have 3 options and q to quit:\")\n",
    "\n",
    "\"\"\" is the user's choice in the legit_options? \"\"\"\n",
    "user_choice in legit_options"
   ]
  },
  {
   "cell_type": "markdown",
   "metadata": {},
   "source": [
    "<p>Great.  Now let's apply it and move on to <code>if</code> and <code>while</code> loop.</p>"
   ]
  },
  {
   "cell_type": "code",
   "execution_count": 27,
   "metadata": {},
   "outputs": [
    {
     "name": "stdout",
     "output_type": "stream",
     "text": [
      "--------------------------------------------------\n",
      "Welcome to the Lab.  Enter your choice from 1, 2, 3 and q[uit]\n",
      "I'm waiting ... q\n",
      "Hey, that's legit.\n",
      "you want to quit?\n"
     ]
    }
   ],
   "source": [
    "legit_options = \"123q\"\n",
    "\n",
    "print(\"-\"*50)\n",
    "print(\"Welcome to the Lab.  Enter your choice from 1, 2, 3 and q[uit]\")\n",
    "user_choice = input(\"I'm waiting ... \")\n",
    "\n",
    "if user_choice not in legit_options:\n",
    "    print(\"\\n\\tSorry, bud, that wasn't an option. Bye.\")\n",
    "else:\n",
    "    print(\"Hey, that's legit.\")\n",
    "    if (user_choice == \"q\"):\n",
    "        print(\"you want to quit?\")"
   ]
  },
  {
   "cell_type": "code",
   "execution_count": 4,
   "metadata": {},
   "outputs": [
    {
     "name": "stdout",
     "output_type": "stream",
     "text": [
      "start only s[0]:  M\n",
      "one letter from end: s[-1]: n\n",
      "range 0:3   Mat\n",
      "from 1 to next-to-last: s[1:-1]  att Damo\n",
      "extract a chunk:  at\n",
      "use shortcut :  Matt Damon\n",
      "______________________________\n",
      "nomaD ttaM\n"
     ]
    }
   ],
   "source": [
    "\"\"\" String Slicing \"\"\"\n",
    "\"\"\" if our string is 'python' we have actually a sequence of \n",
    "letters in spaces 0, 1, 2, 3, ... n...\n",
    "\n",
    "The syntax is usually START : STOP : STEP\n",
    "and there's lots of shorthand techniques to look at. \"\"\"\n",
    "\n",
    "s = \"Matt Damon\"\n",
    "\n",
    "print(\"start only s[0]: \", s[0])   # from the START\n",
    "\n",
    "print(\"one letter from end: s[-1]:\", s[-1])  # one letter from the end of the string\n",
    "print(\"range 0:3  \",s[0:3]) # from the start of the string to 4th letter\n",
    "print(\"from 1 to next-to-last: s[1:-1] \", s[1:-1])  # from 1 to the next-to-last letter\n",
    "print(\"extract a chunk: \", s[1:5:2]) # from 1 to 5, taking 2 letters at a time\n",
    "print(\"use shortcut : \", s[:])     # shortcut for the entire string\n",
    "\n",
    "print(\"_\"*30)\n",
    "\"\"\" why go forward?  Let's go backwards ... \"\"\"\n",
    "print(s[::-1])"
   ]
  },
  {
   "cell_type": "markdown",
   "metadata": {},
   "source": [
    "<p> </p>\n",
    "<hr/><h2>Starting off with the <code>if</code> statement</h2>"
   ]
  },
  {
   "cell_type": "code",
   "execution_count": 5,
   "metadata": {},
   "outputs": [
    {
     "name": "stdout",
     "output_type": "stream",
     "text": [
      "five is indeed bigger than 3\n",
      "and it works with variables\n"
     ]
    }
   ],
   "source": [
    "\"\"\" python comments use 3 quote marks. \"\"\"\n",
    "\n",
    "# and can use hashes but the prefer is \"\"\" \"\"\"\n",
    "# if statement, most basic...\n",
    "# an if statement - think of bigger examples ... \n",
    "if 5 > 3:\n",
    "    print(\"five is indeed bigger than 3\")\n",
    "\n",
    "# an if statement using variables\n",
    "x = 5\n",
    "y = 3\n",
    "if x > y:\n",
    "    print(\"and it works with variables\")\n",
    "    "
   ]
  },
  {
   "cell_type": "code",
   "execution_count": 6,
   "metadata": {},
   "outputs": [
    {
     "name": "stdout",
     "output_type": "stream",
     "text": [
      "Five is indeed bigger!\n"
     ]
    }
   ],
   "source": [
    "\"\"\" if-elif statement \"\"\"\n",
    "# an if-elif statement using variables\n",
    "x = 5\n",
    "y = 3\n",
    "if x > y:\n",
    "    print(\"Five is indeed bigger!\")\n",
    "elif x == y:\n",
    "    print(\"Well, x and y are equal! Weird.\")"
   ]
  },
  {
   "cell_type": "code",
   "execution_count": 8,
   "metadata": {},
   "outputs": [
    {
     "name": "stdout",
     "output_type": "stream",
     "text": [
      "No, the two variables are not the same.\n"
     ]
    }
   ],
   "source": [
    "\"\"\" if - else \"\"\"\n",
    "# an if-else statement using variables\n",
    "x = \"Tom\"\n",
    "y = \"Turkey\"\n",
    "\n",
    "if x == y:\n",
    "    print(\"The two variables are equal.\")\n",
    "else:\n",
    "    print(\"No, the two variables are not the same.\")"
   ]
  },
  {
   "cell_type": "code",
   "execution_count": 7,
   "metadata": {},
   "outputs": [
    {
     "name": "stdout",
     "output_type": "stream",
     "text": [
      "You scored an A\n",
      "Grade A\n"
     ]
    }
   ],
   "source": [
    "\"\"\" There are also lots of shortcuts in python \"\"\"\n",
    "x = 82\n",
    "y = 92\n",
    "\n",
    "if y > x: print(\"You scored an A\")\n",
    "\n",
    "\"\"\" in the above statement notice the syntax. \n",
    "If the value of y is greater than that of x, \n",
    "then print 'You score and A.' \"\"\"\n",
    "\n",
    "print(\"Grade A\") if y > x else print(\"B\")\n",
    "\n",
    "# notice the syntax about the outcome (the print) \n",
    "# appears first, then the comparison - the if statement \n",
    "# followed by the else.  Get familiar with this \n",
    "# notation because it's used in 'lambda functions'.\n"
   ]
  },
  {
   "cell_type": "code",
   "execution_count": 8,
   "metadata": {},
   "outputs": [
    {
     "name": "stdout",
     "output_type": "stream",
     "text": [
      "something is fishy...\n"
     ]
    }
   ],
   "source": [
    "\"\"\" Combine comparison with 'and' \"\"\"\n",
    "a = 5\n",
    "b = 10\n",
    "c = 15\n",
    "\n",
    "if a > b and a > c:\n",
    "    print(\"Both statements are true.\")\n",
    "else:\n",
    "    print(\"something is fishy...\")"
   ]
  },
  {
   "cell_type": "code",
   "execution_count": 8,
   "metadata": {},
   "outputs": [
    {
     "name": "stdout",
     "output_type": "stream",
     "text": [
      "she warrants an A+\n",
      "can we do that?!  What is x now?  9\n"
     ]
    }
   ],
   "source": [
    "\"\"\" using this kind of syntax is great for ranges \"\"\"\n",
    "x = 3\n",
    "if 1 < x < 4:\n",
    "    print(\"she warrants an A+\")\n",
    "    \n",
    "if 1 < x**2 < 20:\n",
    "    print(\"can we do that?!  What is x now? \",x**2)"
   ]
  },
  {
   "cell_type": "code",
   "execution_count": 9,
   "metadata": {},
   "outputs": [
    {
     "name": "stdout",
     "output_type": "stream",
     "text": [
      "at least one of these is true.\n"
     ]
    }
   ],
   "source": [
    "a = 5\n",
    "b = 10\n",
    "c = 15\n",
    "\n",
    "if 3 < a or 3 < c:\n",
    "    print(\"at least one of these is true.\")"
   ]
  },
  {
   "cell_type": "code",
   "execution_count": 10,
   "metadata": {},
   "outputs": [
    {
     "name": "stdout",
     "output_type": "stream",
     "text": [
      "Grade A\n"
     ]
    }
   ],
   "source": [
    "\"\"\" Sometimes we want to check a condition and see if it is true.\n",
    "If that condition is true, then we might want to do tests on other conditions.\n",
    "For example, (if the student is in class 100) we want to assign grades.\n",
    "\"\"\"\n",
    "\n",
    "student_in_class = True\n",
    "score = 93\n",
    "\n",
    "if student_in_class:\n",
    "    if score > 90:\n",
    "        print(\"Grade A\")\n",
    "    elif score > 80 and score <= 89:\n",
    "        print(\"B.\")\n",
    "    elif score > 70 and score <= 70:\n",
    "        print(\"Grade C\")\n",
    "    else:\n",
    "        print(\"Grade D, sorry.\")\n"
   ]
  },
  {
   "cell_type": "code",
   "execution_count": 69,
   "metadata": {},
   "outputs": [],
   "source": [
    "# -*- coding: utf-8 -*-\n",
    "\"\"\"There are times when you're coding and you kind of \n",
    "know what you want to include but you're not finished.  \n",
    "The pass statement allows us to use the code even \n",
    "if we're not ready to finish the code and not get an error.\n",
    "\"\"\"\n",
    "student_Name = \"明娃\"\n",
    "is_enrolled = True\n",
    "\n",
    "if is_enrolled:\n",
    "    pass\n"
   ]
  },
  {
   "cell_type": "markdown",
   "metadata": {},
   "source": [
    "<div style=\"background-color:lightblue;color:black;border-radius:4px;padding:6px;\">\n",
    "<h2>Examples?</h2>\n",
    "<ul><li>You're given a giant string of DNA data and you're looking for a single instance of a mutation (say T where there should be a G): <code>ATTTATATTTAAAGUGAUAA<b>T</b>A</code></ul>\n",
    "<li>You've an encryption key at work that needs to select a set of symbols of the day (like an Enigma machine).</li>\n",
    "<li>Nightly your company receives a giant, unchecked stream of data from its regional offices.  Would you just accept the (dirty) data?</li>\n",
    "<li>Don't forget the end-user: a rule of thumb is to do <code>error correction on input</code>, meaning keep data that aren't good from being submitted - otherwise your code would have to check for everything making a lot of extraneous coding and the chance for bugs to get in anyway.</li>\n",
    "<li>If statements are awfully useful, even nested-ifs.  But what if you have a whole bunch of if-statements (say 7 in a row)?  Options?</li></ul></div>"
   ]
  },
  {
   "cell_type": "markdown",
   "metadata": {},
   "source": [
    "<h2>While</h2> loops\n",
    "<p>are great fun.  With a while-loop, we need some condition to be met in order to stop running the script. Here's an example:</p>"
   ]
  },
  {
   "cell_type": "code",
   "execution_count": 71,
   "metadata": {},
   "outputs": [
    {
     "name": "stdout",
     "output_type": "stream",
     "text": [
      "5\n",
      "4\n",
      "3\n",
      "2\n",
      "1\n",
      "Go, Buffalo Bills!\n"
     ]
    }
   ],
   "source": [
    "countdown = 5\n",
    "\n",
    "while countdown > 0:\n",
    "    print(countdown)\n",
    "    countdown -= 1\n",
    "print(\"Go, Buffalo Bills!\")"
   ]
  },
  {
   "cell_type": "code",
   "execution_count": 73,
   "metadata": {},
   "outputs": [
    {
     "name": "stdout",
     "output_type": "stream",
     "text": [
      "Enter an integer: 3\n",
      "0123"
     ]
    }
   ],
   "source": [
    "\"\"\" Compare the output of these two while loops \"\"\"\n",
    "\n",
    "row = int(input(\"Enter an integer: \"))\n",
    "\n",
    "# while row >= 0:\n",
    "\n",
    "j = 0\n",
    "while j <= row:\n",
    "    print(j, end=\"\")\n",
    "    j += 1"
   ]
  },
  {
   "cell_type": "code",
   "execution_count": 33,
   "metadata": {},
   "outputs": [
    {
     "name": "stdout",
     "output_type": "stream",
     "text": [
      "Enter an integer: 4\n",
      "0 Matt Rocks 1 Matt Rocks 2 Matt Rocks 3 Matt Rocks 4 Matt Rocks  \n",
      "0 Matt Rocks 1 Matt Rocks 2 Matt Rocks 3 Matt Rocks  \n",
      "0 Matt Rocks 1 Matt Rocks 2 Matt Rocks  \n",
      "0 Matt Rocks 1 Matt Rocks  \n",
      "0 Matt Rocks  \n"
     ]
    }
   ],
   "source": [
    "row = int(input(\"Enter an integer: \"))\n",
    "# outer loop\n",
    "while row >= 0:\n",
    "    j = 0\n",
    "    #inner loop\n",
    "    while j <= row: \n",
    "        print(j, end = \" Matt Rocks \")\n",
    "        j += 1\n",
    "    print(\" \")\n",
    "    row -= 1\n",
    "    \n"
   ]
  },
  {
   "cell_type": "markdown",
   "metadata": {},
   "source": [
    "<p></p><hr /><h2>Basic Data Types</h2>\n",
    "<p>Depending on the kind of data we have we use different kinds of variables to hold those data.  Here’s the basics.</p>\n",
    "<p>\n",
    "    <code>integer</code>            counting numbers, e.g., 0,2,3,6,333,142396<br />\n",
    "<code>floating point</code>     3.141458372<br />\n",
    "<code>char</code>               ‘a’,  ‘b’<br />\n",
    "<code>string</code>             “Hi, folk”   can use single quotes, too, ‘Hey!’<br />\n",
    "\n",
    "<code>str</code>                     for text, e.g., x = “Smith”<br />\n",
    "<code>int, float, complex</code>     for numbers, e.g., i = 3.1432<br />\n",
    "<code>sequence</code> types          list, tuple, range<br />\n",
    "<code>mapping</code> types           dict<br />\n",
    "<code>boolean</code> types           bool<br />\n",
    "    </p>\n",
    "    <p>\n",
    "There are others but we’ll not use them now.  Notice that strings are wrapped in quotes.  Numbers are not.  This is how python determines the data type.\n",
    "    </p>"
   ]
  },
  {
   "cell_type": "code",
   "execution_count": 10,
   "metadata": {},
   "outputs": [],
   "source": [
    "i = 5\n",
    "j = 3.1234\n",
    "c = 'a'\n",
    "l = ['a','b','c','d'] # list- we're not there yet (grin)\n",
    "is_cool = True"
   ]
  },
  {
   "cell_type": "code",
   "execution_count": 13,
   "metadata": {},
   "outputs": [
    {
     "data": {
      "text/plain": [
       "int"
      ]
     },
     "execution_count": 13,
     "metadata": {},
     "output_type": "execute_result"
    }
   ],
   "source": [
    "i = 20\n",
    "type(i)"
   ]
  },
  {
   "cell_type": "code",
   "execution_count": 20,
   "metadata": {},
   "outputs": [
    {
     "name": "stdout",
     "output_type": "stream",
     "text": [
      "all clear.\n"
     ]
    }
   ],
   "source": [
    "# why not use it in data cleaning or checking?\n",
    "input_stream = 338293784723892384716\n",
    "if type(input_stream) == int:\n",
    "    print(\"all clear.\")\n",
    "else:\n",
    "    print(\"sorry, only ints allowed.\")"
   ]
  },
  {
   "cell_type": "code",
   "execution_count": 64,
   "metadata": {},
   "outputs": [
    {
     "data": {
      "text/plain": [
       "float"
      ]
     },
     "execution_count": 64,
     "metadata": {},
     "output_type": "execute_result"
    }
   ],
   "source": [
    "type(j)"
   ]
  },
  {
   "cell_type": "code",
   "execution_count": 65,
   "metadata": {},
   "outputs": [
    {
     "data": {
      "text/plain": [
       "str"
      ]
     },
     "execution_count": 65,
     "metadata": {},
     "output_type": "execute_result"
    }
   ],
   "source": [
    "type(c)"
   ]
  },
  {
   "cell_type": "code",
   "execution_count": 66,
   "metadata": {},
   "outputs": [
    {
     "data": {
      "text/plain": [
       "bool"
      ]
     },
     "execution_count": 66,
     "metadata": {},
     "output_type": "execute_result"
    }
   ],
   "source": [
    "type(is_cool)"
   ]
  },
  {
   "cell_type": "markdown",
   "metadata": {},
   "source": [
    "<h3>Using variables</h3>\n",
    "\n",
    "<p>Variables can have <b>global</b> or <b>local</b> scope.  A global var can be used anywhere in the code.  A local variable is used only in the code block where it is declared.</p>"
   ]
  },
  {
   "cell_type": "code",
   "execution_count": 21,
   "metadata": {},
   "outputs": [
    {
     "name": "stdout",
     "output_type": "stream",
     "text": [
      "It's such a great day ... Let's go to the beach!\n"
     ]
    }
   ],
   "source": [
    "\"\"\"  Notice that the quotes can be double or single when \n",
    "wrapping a string.  That’s how we can use the ‘ in \n",
    "the word let’s.  If the quotes are unbalanced then the \n",
    "code will fail.\n",
    "\"\"\"\n",
    "s = \"Let's go to the beach!\"\n",
    "print(\"It's such a great day ... \" + s)\n",
    "\n",
    "# notice that python is loose about concatenation:\n",
    "# most oop languages won't let us use the + sign to add \n",
    "# two strings,\n",
    "# but python is down with it "
   ]
  },
  {
   "cell_type": "code",
   "execution_count": 6,
   "metadata": {},
   "outputs": [
    {
     "data": {
      "text/html": [
       "<img src=\"week-02-extras/namespace.png\"/>"
      ],
      "text/plain": [
       "<IPython.core.display.Image object>"
      ]
     },
     "execution_count": 6,
     "metadata": {},
     "output_type": "execute_result"
    }
   ],
   "source": [
    "i = Image(url='https://github.com/UC-Berkeley-I-School/mids-w200-assignments-upstream-spring2021/blob/master/week_02/week-02-extras/namespace.png')\n",
    "i"
   ]
  },
  {
   "cell_type": "markdown",
   "metadata": {},
   "source": [
    "<img src=\"week-02-extras/namespace.png\" />"
   ]
  },
  {
   "cell_type": "markdown",
   "metadata": {},
   "source": [
    "<h1>Another look at objects</h1>\n",
    "<p>Objects may be hierarchical in that there's a parent class and then we can create copies of that parent <i>and</i> create children of the parent class and add more behaviors to that child class. </p>\n",
    "<p>We have then an hierarchy.  At the root of all oop is an object called Object.  We'll see this more in play when we look at property decorators and get/set methods.  Just a heads-up.</p>\n",
    "<p>When <code>casting</code> a variable from one data type to another we're actually going up the chain of code and then down another branch.  For instance if we cast a string into an integer we're going Up the String chain 'til we hit a parent of both and then the chain in the Integer string.</p>\n",
    "<p>Objects are self-contained: they have a name (starting with a capital letter), and the box that is a class there are the properties (kinda like the variables) and the actions that the class can do (kinda like functions; called <b>methods</b>).\n",
    "    <img src=\"week-02-extras/object-hierarchy.png\"/>\n",
    "<hr/>\n",
    "<h3>Objects representing things in the physical world</h3>\n",
    "<br />\n"
   ]
  },
  {
   "cell_type": "code",
   "execution_count": 11,
   "metadata": {},
   "outputs": [
    {
     "data": {
      "text/html": [
       "<img src=\"week-02-extras/object-hierarchy.png\"/>"
      ],
      "text/plain": [
       "<IPython.core.display.Image object>"
      ]
     },
     "execution_count": 11,
     "metadata": {},
     "output_type": "execute_result"
    }
   ],
   "source": [
    "i = Image(url=\"https://github.com/UC-Berkeley-I-School/mids-w200-assignments-upstream-spring2021/blob/master/week_02/week-02-extras/object-hierarchy.png\")\n",
    "i"
   ]
  },
  {
   "cell_type": "code",
   "execution_count": 12,
   "metadata": {},
   "outputs": [
    {
     "data": {
      "text/html": [
       "<img src=\"week-02-extras/babykitty.png\"/>"
      ],
      "text/plain": [
       "<IPython.core.display.Image object>"
      ]
     },
     "execution_count": 12,
     "metadata": {},
     "output_type": "execute_result"
    }
   ],
   "source": [
    "i = Image(url='https://github.com/UC-Berkeley-I-School/mids-w200-assignments-upstream-spring2021/blob/master/week_02/week-02-extras/babykitty.png')\n",
    "i"
   ]
  },
  {
   "cell_type": "markdown",
   "metadata": {},
   "source": [
    "How might we create a class to represent by cat, BabyKitty?<br />\n",
    "<br />Properties of BabyKitty: has fur (<code>Color</code> Orange); has <code>legs</code> (four of 'em, use an integer); has a <code>name</code> (BabyKitty, so use a String) ...  She <code>purrs()</code>, <code>eats()</code>, <code>sleeps()</code> and more ... in fact all cats (usually) have these properties so we can construct a conceptual cat!  Grouping all these properties and actions together is called <span style=\"color:red\">encapsulation</span>.  From our original Cat class we can make copies all day long and add new properties to our spin-off cats - using <span style=\"color:red\">inheritance</span>. All coming up in a few weeks.\n",
    "<br />"
   ]
  },
  {
   "cell_type": "code",
   "execution_count": 13,
   "metadata": {},
   "outputs": [
    {
     "data": {
      "text/html": [
       "<img src=\"week-02-extras/catconcept.png\"/>"
      ],
      "text/plain": [
       "<IPython.core.display.Image object>"
      ]
     },
     "execution_count": 13,
     "metadata": {},
     "output_type": "execute_result"
    }
   ],
   "source": [
    "i = Image(url='https://github.com/UC-Berkeley-I-School/mids-w200-assignments-upstream-spring2021/blob/master/week_02/week-02-extras/catconcept.png')\n",
    "i"
   ]
  },
  {
   "cell_type": "code",
   "execution_count": 2,
   "metadata": {},
   "outputs": [
    {
     "name": "stdout",
     "output_type": "stream",
     "text": [
      "Enter the annual salary: $ 3\n",
      "and the number of years on the job? 4\n",
      "Annual income must be at least $ 50,000.00  to qualify.\n"
     ]
    }
   ],
   "source": [
    "# -*- coding: utf-8 -*-\n",
    "\n",
    "\"\"\" a little nested if script \"\"\"\n",
    "\"\"\" since python defaults to ASCII unless otherwise informed ... we like UTF-8 \"\"\"\n",
    "\n",
    "\"\"\" can you get a loan to work remotely in Tahiti?  I sure would like to! \"\"\"\n",
    "\n",
    "min_salary = 50000.0     # min salary to get loan\n",
    "min_years = 2            # min years on the job\n",
    "\n",
    "# get the annual salary\n",
    "salary = float(input(\"Enter the annual salary: $ \"))\n",
    "\n",
    "# years on the job\n",
    "years_on_job = int(input(\"and the number of years on the job? \"))\n",
    "\n",
    "# check conditions\n",
    "if salary >= min_salary:\n",
    "    if years_on_job >= min_years:\n",
    "        print(\"\\n\\tJoy!  Tahiti here we come!\\n\")\n",
    "    else:\n",
    "        print('Sorry! The minimum is ', min_years,' to qualify.')\n",
    "        print(\"Treat yourself to a consolation peña colada on us.\")\n",
    "else:\n",
    "    print(\"Annual income must be at least $\", format(min_salary, ',.2f'),\" to qualify.\")\n"
   ]
  },
  {
   "cell_type": "markdown",
   "metadata": {},
   "source": [
    "<div style=\"background-color:skyblue; border-radius:4px; padding:8px;\">\n",
    "    <b>Notes:</b>\n",
    "<ol><li>Encoding directive utf-8.  Often automatically added by some IDEs.</li>\n",
    "<li>Python \"\"\" style comments.</li>\n",
    "<li>Defining some global variables (min_salary and min_years)</li>\n",
    "<li>Get input from the stdin (keyboard) and converting the input into a float or int type.</li>\n",
    "<li>Nested-if statements.  Notice the range checking, use of escape-sequences \\n\\t and format commands.</li>\n",
    "<li>print() sends data to the currently selected stdout.</li>\n",
    "    <li>BTW, note that <code>print()</code> can take no parameters or arguments, or it can take a string e.g., <code>print(\"Hello, Gunnar\")</code>, or it can take a bunch of arguments, separated by a comma: <code>print(\"Hello, \" , name, \" what's up? \").</code>  This is called <span style=\"color:red\">polymorphism</span>.</li></ol>\n",
    "    </div>"
   ]
  },
  {
   "cell_type": "markdown",
   "metadata": {},
   "source": [
    "<h1>Breakout Rooms</h1>\n",
    "<p>Visit the Activity folder in this week's upstream.</p>\n",
    "<p style=\"color:cornflowerblue;\">Tribbles, Spiders, and Calculators</p>\n",
    "Use what you downloaded for week 2 in Jupyter to create a string variable that prints exactly\n",
    "<blockquote>\n",
    "<pre>The \"trouble with\n",
    "Tribbles\" is that they \n",
    "\\\\\\EAT/// too many MREs.\n",
    "</pre>\n",
    "</blockquote>\n",
    "<p>\n",
    "    Using <u>one</u> line of Python code, make your \n",
    "    variable from part 1 <u>print Tribbles backwards</u>\n",
    "    \"<code>selbbirT</code>\" 300 times.</p>"
   ]
  },
  {
   "cell_type": "markdown",
   "metadata": {},
   "source": [
    "<p>Make a calculator - the purpose is to practice conditions \n",
    "    (“if” statements) and saving your work as a .py and executing it.</p>\n",
    "    <p></p>\n",
    "    <hr/>"
   ]
  },
  {
   "cell_type": "code",
   "execution_count": 22,
   "metadata": {},
   "outputs": [],
   "source": [
    "t = \"tribbles\"\n",
    "# answer in class"
   ]
  },
  {
   "cell_type": "markdown",
   "metadata": {},
   "source": [
    "<h1>That's it for today.  Be well and stay well.  Cheers </h1>"
   ]
  },
  {
   "cell_type": "code",
   "execution_count": null,
   "metadata": {},
   "outputs": [],
   "source": [
    "a = float(input(\"Enter first number: \"))\n",
    "b = float(input(\"Enter second number: \"))\n",
    "operator = input(\"Enter operator: \")\n",
    "\n",
    "if operator == \"+\":\n",
    "    calc = a + b\n",
    "elif operator == \"-\":\n",
    "    calc = a - b\n",
    "elif operator == \"*\":\n",
    "    calc = a * b\n",
    "elif operator == \"/\":\n",
    "    calc = a / b\n",
    "else:\n",
    "    calc = \"invalid\"\n",
    "\n",
    "if calc == \"invalid\":\n",
    "    print(\"Invalid operator\")\n",
    "else:\n",
    "    print(a, operator, b, \"=\", calc)"
   ]
  }
 ],
 "metadata": {
  "kernelspec": {
   "display_name": "Python 3",
   "language": "python",
   "name": "python3"
  },
  "language_info": {
   "codemirror_mode": {
    "name": "ipython",
    "version": 3
   },
   "file_extension": ".py",
   "mimetype": "text/x-python",
   "name": "python",
   "nbconvert_exporter": "python",
   "pygments_lexer": "ipython3",
   "version": "3.8.5"
  }
 },
 "nbformat": 4,
 "nbformat_minor": 4
}
